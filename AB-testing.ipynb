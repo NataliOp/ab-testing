{
 "cells": [
  {
   "cell_type": "markdown",
   "id": "f9febd83-bf73-4de3-9872-15e09c39e903",
   "metadata": {},
   "source": [
    "<div style=\"background-color: #fceaea; padding: 15px; border-left: 5px solid #d9534f;\">\n",
    "<b>Описание задачи</b><br><br>\n",
    "Сайт запустил A/B тест с целью увеличения дохода. Необходимо проанализировать результаты эксперимента и написать свои рекомендации.<br><br>\n",
    "<b>Описание датасета</b><br><br>\n",
    "Исследуемый датасет имеет сырые данные по результатам эксперимента:<br>\n",
    "1. user_id - уникальный идентификатор пользователя.<br>\n",
    "2. variant_name - экспериментальная группа.<br>\n",
    "3. revenue - доход, принесенный пользователем. <br><br>\n",
    "<b>Ход исследования</b><br><br>\n",
    "1. Загрузка датасета.<br>\n",
    "2. Предобработка данных.<br>\n",
    "3. Статистический анализ (ARPU).<br>\n",
    "4. Выводы."
   ]
  },
  {
   "cell_type": "code",
   "execution_count": 1,
   "id": "cb66f1b6-01e1-4048-b416-3f282506264b",
   "metadata": {},
   "outputs": [],
   "source": [
    "import os\n",
    "import kagglehub\n",
    "import pandas as pd\n",
    "import numpy as np\n",
    "from scipy import stats\n",
    "from tqdm import tqdm\n",
    "import matplotlib.pyplot as plt\n",
    "import seaborn as sns"
   ]
  },
  {
   "cell_type": "markdown",
   "id": "32ab8081-58e8-4f5e-bb11-84e7980429c8",
   "metadata": {},
   "source": [
    "<div style=\"background-color: #e6f7ff; padding: 15px; border-left: 5px solid #5bc0de;\">\n",
    "    <b>Загрузка датасета<b>\n",
    "</div>"
   ]
  },
  {
   "cell_type": "code",
   "execution_count": 2,
   "id": "65610892-1944-4964-8a8e-5208267188f6",
   "metadata": {},
   "outputs": [],
   "source": [
    "# скачиваем датасет из Kaggle - получаем путь к папке\n",
    "path_folder = kagglehub.dataset_download(\"sergylog/ab-test-data\")"
   ]
  },
  {
   "cell_type": "code",
   "execution_count": 3,
   "id": "7b363a1e-3f7e-4bc5-bdb9-43fc4513b62a",
   "metadata": {},
   "outputs": [],
   "source": [
    "# получаем путь к файлу .csv\n",
    "for address, dirs, files in os.walk(path_folder):\n",
    "    for name in files:\n",
    "        path_file = os.path.join(address, name)"
   ]
  },
  {
   "cell_type": "code",
   "execution_count": 4,
   "id": "759b6d7c-d268-4930-9acd-70d85dcb55ca",
   "metadata": {},
   "outputs": [],
   "source": [
    "# получаем DataFrame\n",
    "df = pd.read_csv(path_file)"
   ]
  },
  {
   "cell_type": "code",
   "execution_count": 5,
   "id": "3dfcbcc4-7ffe-4446-b4a6-87759bf2ea63",
   "metadata": {},
   "outputs": [],
   "source": [
    "# переименуем колонки для удобства\n",
    "df = df.rename(columns={'USER_ID' : 'user_id', 'VARIANT_NAME' : 'variant_name', 'REVENUE' : 'revenue'})"
   ]
  },
  {
   "cell_type": "markdown",
   "id": "f6d279ce-9563-4abb-af98-1bbd7e1b4aa7",
   "metadata": {},
   "source": [
    "<div style=\"background-color: #e6f7ff; padding: 15px; border-left: 5px solid #5bc0de;\">\n",
    "<b>Предобработка данных<b>\n",
    "</div>"
   ]
  },
  {
   "cell_type": "code",
   "execution_count": 7,
   "id": "13d37ede-672c-4f17-ab4a-d6a534579510",
   "metadata": {},
   "outputs": [
    {
     "name": "stdout",
     "output_type": "stream",
     "text": [
      "<class 'pandas.core.frame.DataFrame'>\n",
      "RangeIndex: 10000 entries, 0 to 9999\n",
      "Data columns (total 3 columns):\n",
      " #   Column        Non-Null Count  Dtype  \n",
      "---  ------        --------------  -----  \n",
      " 0   user_id       10000 non-null  int64  \n",
      " 1   variant_name  10000 non-null  object \n",
      " 2   revenue       10000 non-null  float64\n",
      "dtypes: float64(1), int64(1), object(1)\n",
      "memory usage: 234.5+ KB\n"
     ]
    }
   ],
   "source": [
    "df.info()"
   ]
  },
  {
   "cell_type": "markdown",
   "id": "f951dd96-64e4-4bc1-8329-f05b2d65ec19",
   "metadata": {},
   "source": [
    "Пропущенные наблюдения отсутствуют, типы данных к переменным указаны корректно."
   ]
  },
  {
   "cell_type": "code",
   "execution_count": 8,
   "id": "8a0a5846-4950-4ccb-961d-23b516710b71",
   "metadata": {},
   "outputs": [
    {
     "data": {
      "text/html": [
       "<div>\n",
       "<style scoped>\n",
       "    .dataframe tbody tr th:only-of-type {\n",
       "        vertical-align: middle;\n",
       "    }\n",
       "\n",
       "    .dataframe tbody tr th {\n",
       "        vertical-align: top;\n",
       "    }\n",
       "\n",
       "    .dataframe thead th {\n",
       "        text-align: right;\n",
       "    }\n",
       "</style>\n",
       "<table border=\"1\" class=\"dataframe\">\n",
       "  <thead>\n",
       "    <tr style=\"text-align: right;\">\n",
       "      <th></th>\n",
       "      <th>user_id</th>\n",
       "      <th>variant_name</th>\n",
       "      <th>revenue</th>\n",
       "    </tr>\n",
       "  </thead>\n",
       "  <tbody>\n",
       "    <tr>\n",
       "      <th>106</th>\n",
       "      <td>7704</td>\n",
       "      <td>control</td>\n",
       "      <td>0.0</td>\n",
       "    </tr>\n",
       "    <tr>\n",
       "      <th>195</th>\n",
       "      <td>8406</td>\n",
       "      <td>variant</td>\n",
       "      <td>0.0</td>\n",
       "    </tr>\n",
       "    <tr>\n",
       "      <th>224</th>\n",
       "      <td>7042</td>\n",
       "      <td>variant</td>\n",
       "      <td>0.0</td>\n",
       "    </tr>\n",
       "    <tr>\n",
       "      <th>302</th>\n",
       "      <td>4409</td>\n",
       "      <td>control</td>\n",
       "      <td>0.0</td>\n",
       "    </tr>\n",
       "    <tr>\n",
       "      <th>422</th>\n",
       "      <td>1621</td>\n",
       "      <td>variant</td>\n",
       "      <td>0.0</td>\n",
       "    </tr>\n",
       "    <tr>\n",
       "      <th>...</th>\n",
       "      <td>...</td>\n",
       "      <td>...</td>\n",
       "      <td>...</td>\n",
       "    </tr>\n",
       "    <tr>\n",
       "      <th>9989</th>\n",
       "      <td>2444</td>\n",
       "      <td>variant</td>\n",
       "      <td>0.0</td>\n",
       "    </tr>\n",
       "    <tr>\n",
       "      <th>9993</th>\n",
       "      <td>2400</td>\n",
       "      <td>variant</td>\n",
       "      <td>0.0</td>\n",
       "    </tr>\n",
       "    <tr>\n",
       "      <th>9994</th>\n",
       "      <td>3129</td>\n",
       "      <td>control</td>\n",
       "      <td>0.0</td>\n",
       "    </tr>\n",
       "    <tr>\n",
       "      <th>9995</th>\n",
       "      <td>1981</td>\n",
       "      <td>control</td>\n",
       "      <td>0.0</td>\n",
       "    </tr>\n",
       "    <tr>\n",
       "      <th>9997</th>\n",
       "      <td>9214</td>\n",
       "      <td>variant</td>\n",
       "      <td>0.0</td>\n",
       "    </tr>\n",
       "  </tbody>\n",
       "</table>\n",
       "<p>2067 rows × 3 columns</p>\n",
       "</div>"
      ],
      "text/plain": [
       "      user_id variant_name  revenue\n",
       "106      7704      control      0.0\n",
       "195      8406      variant      0.0\n",
       "224      7042      variant      0.0\n",
       "302      4409      control      0.0\n",
       "422      1621      variant      0.0\n",
       "...       ...          ...      ...\n",
       "9989     2444      variant      0.0\n",
       "9993     2400      variant      0.0\n",
       "9994     3129      control      0.0\n",
       "9995     1981      control      0.0\n",
       "9997     9214      variant      0.0\n",
       "\n",
       "[2067 rows x 3 columns]"
      ]
     },
     "execution_count": 8,
     "metadata": {},
     "output_type": "execute_result"
    }
   ],
   "source": [
    "df.loc[df.duplicated(), :]  # проверка на дубликаты"
   ]
  },
  {
   "cell_type": "code",
   "execution_count": 9,
   "id": "22c70efb-3218-41fe-b4f2-9982833fd7d0",
   "metadata": {},
   "outputs": [
    {
     "data": {
      "text/plain": [
       "6324"
      ]
     },
     "execution_count": 9,
     "metadata": {},
     "output_type": "execute_result"
    }
   ],
   "source": [
    "df.user_id.nunique()  # проверяем уникальное количество ID пользователей"
   ]
  },
  {
   "cell_type": "markdown",
   "id": "8e85ba87-491a-430f-8b24-6566cca73e4f",
   "metadata": {},
   "source": [
    "Судя по описанию задачи, ID пользователей не должны повторяться. \n",
    "Необходимо избавиться также от строк, где ID пользователя встречается в обеих группах."
   ]
  },
  {
   "cell_type": "code",
   "execution_count": 10,
   "id": "f9d4829c-6c47-495e-b77b-8385f72ca7cd",
   "metadata": {},
   "outputs": [],
   "source": [
    "# избавляемся от дубликатов\n",
    "df_clean = df.loc[~df.duplicated(), :].reset_index(drop=True)\n",
    "df_multi_user = df_clean.groupby('user_id', as_index=False).agg({'variant_name' : 'nunique'})\\\n",
    "                        .rename(columns={'variant_name' : 'count_group'})\\\n",
    "                        .query('count_group > 1')\n",
    "df_clean = df_clean[~df_clean['user_id'].isin(df_multi_user['user_id'])].reset_index(drop=True)"
   ]
  },
  {
   "cell_type": "code",
   "execution_count": 11,
   "id": "c2654507-4a26-4e7b-892a-40e97ee90692",
   "metadata": {},
   "outputs": [
    {
     "name": "stdout",
     "output_type": "stream",
     "text": [
      "<class 'pandas.core.frame.DataFrame'>\n",
      "RangeIndex: 4821 entries, 0 to 4820\n",
      "Data columns (total 3 columns):\n",
      " #   Column        Non-Null Count  Dtype  \n",
      "---  ------        --------------  -----  \n",
      " 0   user_id       4821 non-null   int64  \n",
      " 1   variant_name  4821 non-null   object \n",
      " 2   revenue       4821 non-null   float64\n",
      "dtypes: float64(1), int64(1), object(1)\n",
      "memory usage: 113.1+ KB\n"
     ]
    }
   ],
   "source": [
    "df_clean.info()"
   ]
  },
  {
   "cell_type": "code",
   "execution_count": 12,
   "id": "ac220de4-9a07-44e0-bb26-9e4aa058bc89",
   "metadata": {},
   "outputs": [
    {
     "data": {
      "text/html": [
       "<div>\n",
       "<style scoped>\n",
       "    .dataframe tbody tr th:only-of-type {\n",
       "        vertical-align: middle;\n",
       "    }\n",
       "\n",
       "    .dataframe tbody tr th {\n",
       "        vertical-align: top;\n",
       "    }\n",
       "\n",
       "    .dataframe thead th {\n",
       "        text-align: right;\n",
       "    }\n",
       "</style>\n",
       "<table border=\"1\" class=\"dataframe\">\n",
       "  <thead>\n",
       "    <tr style=\"text-align: right;\">\n",
       "      <th></th>\n",
       "      <th>user_id</th>\n",
       "    </tr>\n",
       "    <tr>\n",
       "      <th>variant_name</th>\n",
       "      <th></th>\n",
       "    </tr>\n",
       "  </thead>\n",
       "  <tbody>\n",
       "    <tr>\n",
       "      <th>control</th>\n",
       "      <td>2414</td>\n",
       "    </tr>\n",
       "    <tr>\n",
       "      <th>variant</th>\n",
       "      <td>2407</td>\n",
       "    </tr>\n",
       "  </tbody>\n",
       "</table>\n",
       "</div>"
      ],
      "text/plain": [
       "              user_id\n",
       "variant_name         \n",
       "control          2414\n",
       "variant          2407"
      ]
     },
     "execution_count": 12,
     "metadata": {},
     "output_type": "execute_result"
    }
   ],
   "source": [
    "df_clean.groupby('variant_name').agg({'user_id' : 'count'})"
   ]
  },
  {
   "cell_type": "markdown",
   "id": "56e4c288-8a16-4868-9cab-ba38b27e73a1",
   "metadata": {},
   "source": [
    "Наблюдения по двум группам сбалансированы."
   ]
  },
  {
   "cell_type": "code",
   "execution_count": 13,
   "id": "97f265b7-6087-4841-b98e-7ec7059a9683",
   "metadata": {},
   "outputs": [],
   "source": [
    "# сформируем датафремы по группам для удобства\n",
    "df_control = df_clean[df_clean['variant_name'] == 'control'].reset_index(drop=True)\n",
    "df_variant = df_clean[df_clean['variant_name'] == 'variant'].reset_index(drop=True)"
   ]
  },
  {
   "cell_type": "code",
   "execution_count": 14,
   "id": "252c8c41-382c-4669-9687-bd7eddd90132",
   "metadata": {},
   "outputs": [
    {
     "data": {
      "image/png": "[encoded data removed]",
      "text/plain": [
       "<Figure size 500x500 with 1 Axes>"
      ]
     },
     "metadata": {},
     "output_type": "display_data"
    }
   ],
   "source": [
    "sns.displot(df_control[df_control['revenue'] != 0], x='revenue')\n",
    "plt.title('Распределение выручки в контрольной группе');"
   ]
  },
  {
   "cell_type": "markdown",
   "id": "35e3f39d-89e6-41b3-949e-3d4b88b5342e",
   "metadata": {},
   "source": [
    "В контрольной группе есть явно какой-то выброс, основная масса наблюдений находится в диапазоне от 0 до 25. Оставим значения только в этом диапазоне для контрольной группы."
   ]
  },
  {
   "cell_type": "code",
   "execution_count": 15,
   "id": "eab452a0-c683-49b9-816d-2f74fc7e077d",
   "metadata": {},
   "outputs": [],
   "source": [
    "df_control = df_control.loc[df_control['revenue'] <= 25]"
   ]
  },
  {
   "cell_type": "code",
   "execution_count": 16,
   "id": "6253f41d-26a0-4e87-a490-59a79dc65ed0",
   "metadata": {},
   "outputs": [
    {
     "data": {
      "image/png": "[encoded data removed]",
      "text/plain": [
       "<Figure size 500x500 with 1 Axes>"
      ]
     },
     "metadata": {},
     "output_type": "display_data"
    }
   ],
   "source": [
    "sns.displot(df_control[df_control['revenue'] != 0], x='revenue')\n",
    "plt.title('Распределение выручки в контрольной группе');"
   ]
  },
  {
   "cell_type": "code",
   "execution_count": 17,
   "id": "3d2ee05a-1ddd-4ab5-97d5-15250a75f619",
   "metadata": {},
   "outputs": [
    {
     "data": {
      "image/png": "[encoded data removed]",
      "text/plain": [
       "<Figure size 500x500 with 1 Axes>"
      ]
     },
     "metadata": {},
     "output_type": "display_data"
    }
   ],
   "source": [
    "sns.displot(df_variant[df_variant['revenue'] != 0], x='revenue')\n",
    "plt.title('Распределение выручки в тестовой группе');"
   ]
  },
  {
   "cell_type": "markdown",
   "id": "bfd60f34-8b37-4e15-ab8c-2eaf4ee72a80",
   "metadata": {},
   "source": [
    "<div style=\"background-color: #e6f7ff; padding: 15px; border-left: 5px solid #5bc0de;\">\n",
    "<b>Статистический анализ (ARPU)<b>\n",
    "</div>"
   ]
  },
  {
   "cell_type": "markdown",
   "id": "6eeca7a9-7675-4d4e-a6b1-a2baefc9d03c",
   "metadata": {},
   "source": [
    "* H0: μ1 = μ2 (среднее в контрольной и тестовой группах одинаковы).\n",
    "* H1: μ1 != μ2 (среднее в контрольной и тестовой группах отличаются)."
   ]
  },
  {
   "cell_type": "code",
   "execution_count": 18,
   "id": "cf55189e-2acc-4846-8879-f845a629be02",
   "metadata": {},
   "outputs": [
    {
     "name": "stdout",
     "output_type": "stream",
     "text": [
      "Среднее в контрольной группе: 0.10167081260364844\n",
      "Среднее в тестовой группе: 0.07449937681761529\n"
     ]
    }
   ],
   "source": [
    "print(f'Среднее в контрольной группе: {df_control.revenue.mean()}')\n",
    "print(f'Среднее в тестовой группе: {df_variant.revenue.mean()}')"
   ]
  },
  {
   "cell_type": "markdown",
   "id": "0a8037f0-2319-4888-affc-3628a78127ef",
   "metadata": {},
   "source": [
    "##### тест Шапиро-Уилка \n",
    "* H0: выборка распределена по нормальному закону.\n",
    "* H1: закон распределения не является нормальным."
   ]
  },
  {
   "cell_type": "code",
   "execution_count": 19,
   "id": "2f6561a5-af57-4833-b33d-be2c46efb50a",
   "metadata": {},
   "outputs": [
    {
     "data": {
      "text/plain": [
       "ShapiroResult(statistic=np.float64(0.07867252753631404), pvalue=np.float64(1.5463825242491196e-75))"
      ]
     },
     "execution_count": 19,
     "metadata": {},
     "output_type": "execute_result"
    }
   ],
   "source": [
    "stats.shapiro(df_control.revenue)"
   ]
  },
  {
   "cell_type": "code",
   "execution_count": 20,
   "id": "664577b1-904d-4402-a3b3-85ed119012eb",
   "metadata": {},
   "outputs": [
    {
     "data": {
      "text/plain": [
       "ShapiroResult(statistic=np.float64(0.061301809078948666), pvalue=np.float64(7.176271233342271e-76))"
      ]
     },
     "execution_count": 20,
     "metadata": {},
     "output_type": "execute_result"
    }
   ],
   "source": [
    "stats.shapiro(df_variant.revenue)"
   ]
  },
  {
   "cell_type": "markdown",
   "id": "4dae907f-4ff1-4599-bde6-d24aaaad0a6d",
   "metadata": {},
   "source": [
    "Для обеих групп отклоняется нулевая гипотеза о нормальном распределении. "
   ]
  },
  {
   "cell_type": "markdown",
   "id": "ef1c3d01-83f4-43b4-a4c8-01ba4a566ac3",
   "metadata": {},
   "source": [
    "##### тест Левена\n",
    "* H0: дисперсии в выборках не имеют значимых различий.\n",
    "* H1: дисперсии в выборках имеют значимые различия."
   ]
  },
  {
   "cell_type": "code",
   "execution_count": 21,
   "id": "30fb6694-5afe-480c-b8c2-43a7663bbfa2",
   "metadata": {},
   "outputs": [
    {
     "data": {
      "text/plain": [
       "LeveneResult(statistic=np.float64(4.049572481226208), pvalue=np.float64(0.04423809185200269))"
      ]
     },
     "execution_count": 21,
     "metadata": {},
     "output_type": "execute_result"
    }
   ],
   "source": [
    "stats.levene(df_control['revenue'], df_variant['revenue'], center='mean')"
   ]
  },
  {
   "cell_type": "markdown",
   "id": "bc33fb02-ae26-4fae-9caa-ac9a5e761ce9",
   "metadata": {},
   "source": [
    "Дисперсии в контрольной и тестовой группах различаются, нулевая гипотеза отклоняется."
   ]
  },
  {
   "cell_type": "markdown",
   "id": "b2efde5b-0b01-45da-befa-74ff71ce8252",
   "metadata": {},
   "source": [
    "В результате имеем: распределение в группах отличается от нормального, дисперсии гетерогенны. Предположение о нормальном распределении не выполянется для применения t-критерия. Критерий Манна-Уитни не подходит ввиду того, что он становится менее чувствительным на повторяющихся данных. Будем использовать: t-критерий Уэлча и bootstrap."
   ]
  },
  {
   "cell_type": "markdown",
   "id": "f861f09e-38b7-4a76-a82c-99d005dbfc2d",
   "metadata": {},
   "source": [
    "##### A/A-test"
   ]
  },
  {
   "cell_type": "markdown",
   "id": "7a59e60b-c04c-473a-9cc5-8df032605b57",
   "metadata": {},
   "source": [
    "Воспользуемся симуляцией для оценки вероятности ошибки первого рода в контексте статистического теста Уэлча."
   ]
  },
  {
   "cell_type": "code",
   "execution_count": 22,
   "id": "e10c72b1-c001-401e-91d6-7b3eca9e06a7",
   "metadata": {},
   "outputs": [
    {
     "name": "stderr",
     "output_type": "stream",
     "text": [
      "100%|██████████████████████████████████████████████████████████████████████████| 10000/10000 [00:08<00:00, 1239.13it/s]\n"
     ]
    }
   ],
   "source": [
    "sample_size = 0.9\n",
    "n_samples = 10000\n",
    "\n",
    "sub_sample_size = int(sample_size*np.size(df_control.revenue.values))\n",
    "\n",
    "res_p_values = []\n",
    "\n",
    "for _ in tqdm(range(n_samples)):\n",
    "    group1 = np.random.choice(df_control.revenue.values, size=sub_sample_size, replace=False, p=None)\n",
    "    group2 = np.random.choice(df_control.revenue.values, size=sub_sample_size, replace=False, p=None)\n",
    "\n",
    "    stat_test = stats.ttest_ind(group1, group2, equal_var=False)\n",
    "    p_value = stat_test.pvalue\n",
    "    res_p_values.append(p_value)"
   ]
  },
  {
   "cell_type": "code",
   "execution_count": 23,
   "id": "f5c9c4c7-2fb7-4ad5-a646-b44feae7e7be",
   "metadata": {},
   "outputs": [],
   "source": [
    "# оставляем только p-value <= 0.05\n",
    "f_p = list(filter(lambda x: x <= 0.05, res_p_values))\n",
    "f_p_count = len(f_p)\n",
    "\n",
    "# частота ложных положительных результатов\n",
    "fpr = f_p_count / sub_sample_size"
   ]
  },
  {
   "cell_type": "code",
   "execution_count": 24,
   "id": "e1177f8c-dbfd-4535-b872-d45a2770dd88",
   "metadata": {},
   "outputs": [
    {
     "data": {
      "text/plain": [
       "0.0"
      ]
     },
     "execution_count": 24,
     "metadata": {},
     "output_type": "execute_result"
    }
   ],
   "source": [
    "fpr"
   ]
  },
  {
   "cell_type": "markdown",
   "id": "7b7a23e5-e32a-4a8e-a9aa-d9e7c8d7e6c6",
   "metadata": {},
   "source": [
    "Исходя из величины False Positive Rate, в ходе симуляции p-values оказались меньше либо равны заданному порогу 0.05."
   ]
  },
  {
   "cell_type": "code",
   "execution_count": 25,
   "id": "95b5f240-0071-4ce8-97da-1137070243c0",
   "metadata": {},
   "outputs": [
    {
     "data": {
      "image/png": "[encoded data removed]",
      "text/plain": [
       "<Figure size 640x480 with 1 Axes>"
      ]
     },
     "metadata": {},
     "output_type": "display_data"
    }
   ],
   "source": [
    "sns.histplot(res_p_values)\n",
    "plt.title('Распределение p-values');"
   ]
  },
  {
   "cell_type": "markdown",
   "id": "7c47f325-0301-4838-b66b-8260fcafc6e5",
   "metadata": {},
   "source": [
    "##### Bootstrap"
   ]
  },
  {
   "cell_type": "code",
   "execution_count": 26,
   "id": "292ce036-3b71-4817-a287-b453e814eebb",
   "metadata": {},
   "outputs": [
    {
     "name": "stderr",
     "output_type": "stream",
     "text": [
      "100%|██████████████████████████████████████████████████████████████████████████| 10000/10000 [00:02<00:00, 4151.27it/s]\n"
     ]
    }
   ],
   "source": [
    "# сохраняем в список разницу между средними в группах\n",
    "mean_diff = []\n",
    "\n",
    "for i in tqdm(range(10000)):\n",
    "    sample_data_control = df_control.sample(frac=1, replace=True)\n",
    "    sample_mean_control = sample_data_control.revenue.mean()\n",
    "\n",
    "    sample_data_variant = df_variant.sample(frac=1, replace=True)\n",
    "    sample_mean_variant = sample_data_variant.revenue.mean()\n",
    "\n",
    "    sample_mean_diff = sample_mean_control - sample_mean_variant\n",
    "    mean_diff.append(sample_mean_diff)"
   ]
  },
  {
   "cell_type": "code",
   "execution_count": 27,
   "id": "72406633-37a4-4304-9a55-778a7c1acf9f",
   "metadata": {},
   "outputs": [],
   "source": [
    "lower_q = pd.Series(mean_diff).quantile(0.025)\n",
    "upper_q = pd.Series(mean_diff).quantile(0.975)"
   ]
  },
  {
   "cell_type": "code",
   "execution_count": 28,
   "id": "075ebdcd-c5d1-4ae8-bdaf-cb9835a56baf",
   "metadata": {},
   "outputs": [
    {
     "data": {
      "image/png": "[encoded data removed]",
      "text/plain": [
       "<Figure size 500x500 with 1 Axes>"
      ]
     },
     "metadata": {},
     "output_type": "display_data"
    }
   ],
   "source": [
    "sns.displot(mean_diff, bins=30, color='blue')\n",
    "# добавление линий квантилей\n",
    "plt.axvline(lower_q, color='red', linestyle='--', label=f'2.5-й перцентиль: {lower_q:.2f}')\n",
    "plt.axvline(upper_q, color='red', linestyle='--', label=f'97.5-й перцентиль: {upper_q:.2f}')\n",
    "\n",
    "# добавление легенды и подписей\n",
    "plt.legend(loc='upper left', bbox_to_anchor=(1, 1))\n",
    "plt.title('Распределение выборочных средних с квантилями')\n",
    "plt.xlabel('Разница выборочных средних')\n",
    "plt.ylabel('Частота')\n",
    "plt.show();"
   ]
  },
  {
   "cell_type": "markdown",
   "id": "9c96a295-5cbc-454c-8c6f-965c9d9012b1",
   "metadata": {},
   "source": [
    "Доверительный интервал содержит 0, следовательно, нулевая гипотеза не отклоняется."
   ]
  },
  {
   "cell_type": "markdown",
   "id": "3bdf7ba2-a203-4834-ac32-c79146f1696f",
   "metadata": {},
   "source": [
    "<div style=\"background-color: #e6f7ff; padding: 15px; border-left: 5px solid #5bc0de;\">\n",
    "<b>Выводы<b>\n",
    "</div>"
   ]
  },
  {
   "cell_type": "markdown",
   "id": "4228d0bb-9492-4155-8869-a6fcf5002947",
   "metadata": {},
   "source": [
    "Проведенный анализ показал, что различий в среднем доходе на пользователя (ARPU) в контрольной и тестовой группах нет. Внедренное изменение не оказало значимого влияния на доход сайта."
   ]
  }
 ],
 "metadata": {
  "kernelspec": {
   "display_name": "Python 3 (ipykernel)",
   "language": "python",
   "name": "python3"
  },
  "language_info": {
   "codemirror_mode": {
    "name": "ipython",
    "version": 3
   },
   "file_extension": ".py",
   "mimetype": "text/x-python",
   "name": "python",
   "nbconvert_exporter": "python",
   "pygments_lexer": "ipython3",
   "version": "3.12.8"
  }
 },
 "nbformat": 4,
 "nbformat_minor": 5
}
